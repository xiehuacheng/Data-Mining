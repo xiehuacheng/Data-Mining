{
 "cells": [
  {
   "cell_type": "code",
   "execution_count": 1,
   "metadata": {},
   "outputs": [],
   "source": [
    "import dgl\n",
    "import numpy as np"
   ]
  },
  {
   "cell_type": "code",
   "execution_count": 2,
   "metadata": {},
   "outputs": [],
   "source": [
    "# 读取DGL图\n",
    "train_dgl_graphs, _ = dgl.load_graphs('dgl_data/dgl_graphs_train.bin')"
   ]
  },
  {
   "cell_type": "code",
   "execution_count": 3,
   "metadata": {},
   "outputs": [
    {
     "name": "stdout",
     "output_type": "stream",
     "text": [
      "(1140, 1)\n",
      "(1140, 43)\n",
      "(1140, 2)\n",
      "(90, 1140, 46)\n"
     ]
    }
   ],
   "source": [
    "# 将dgl图中的节点id转换为numpy数组\n",
    "train_ids = []\n",
    "for g in train_dgl_graphs:\n",
    "    train_ids.append(g.ndata['node_id'].numpy().reshape(-1, 1))\n",
    "\n",
    "print(train_ids[0].shape)\n",
    "\n",
    "# 将dgl图中的节点数据转换为numpy数组\n",
    "train_feats = []\n",
    "for g in train_dgl_graphs:\n",
    "    train_feats.append(g.ndata['feat'].numpy())\n",
    "    \n",
    "print(train_feats[0].shape)\n",
    "    \n",
    "# 将dgl图中的节点标签转换为numpy数组\n",
    "train_labels = []\n",
    "for g in train_dgl_graphs:\n",
    "    train_labels.append(g.ndata['label'].numpy())\n",
    "\n",
    "print(train_labels[0].shape)\n",
    "\n",
    "# 按照最后一个维度进行拼接\n",
    "train_data = np.concatenate([train_ids, train_feats, train_labels], axis=-1)\n",
    "\n",
    "print(train_data.shape)"
   ]
  },
  {
   "cell_type": "code",
   "execution_count": 4,
   "metadata": {},
   "outputs": [],
   "source": [
    "# 保存数据\n",
    "np.save('numpy_data/train.npy', train_data)"
   ]
  },
  {
   "cell_type": "code",
   "execution_count": 5,
   "metadata": {},
   "outputs": [],
   "source": [
    "# 读取DGL图\n",
    "test_dgl_graphs, _ = dgl.load_graphs('dgl_data/dgl_graphs_test.bin')"
   ]
  },
  {
   "cell_type": "code",
   "execution_count": 6,
   "metadata": {},
   "outputs": [
    {
     "name": "stdout",
     "output_type": "stream",
     "text": [
      "(1140, 1)\n",
      "(1140, 43)\n",
      "(4, 1140, 44)\n"
     ]
    }
   ],
   "source": [
    "# 将dgl图中的节点id转换为numpy数组\n",
    "test_ids = []\n",
    "for g in test_dgl_graphs:\n",
    "    test_ids.append(g.ndata['node_id'].numpy().reshape(-1, 1))\n",
    "\n",
    "print(train_ids[0].shape)\n",
    "\n",
    "# 将dgl图中的节点数据转换为numpy数组\n",
    "test_feats = []\n",
    "for g in test_dgl_graphs:\n",
    "    test_feats.append(g.ndata['feat'].numpy())\n",
    "    \n",
    "print(test_feats[0].shape)\n",
    "\n",
    "# 按照最后一个维度进行拼接\n",
    "test_data = np.concatenate([test_ids, test_feats], axis=-1)\n",
    "\n",
    "print(test_data.shape)"
   ]
  },
  {
   "cell_type": "code",
   "execution_count": 7,
   "metadata": {},
   "outputs": [],
   "source": [
    "# 保存数据\n",
    "np.save('numpy_data/test.npy', test_feats)"
   ]
  },
  {
   "cell_type": "code",
   "execution_count": 8,
   "metadata": {},
   "outputs": [
    {
     "name": "stdout",
     "output_type": "stream",
     "text": [
      "(94, 1140, 44)\n"
     ]
    }
   ],
   "source": [
    "# 拼接训练集和测试集\n",
    "data = np.concatenate([train_data[:, :, :-2], test_data], axis=0)\n",
    "\n",
    "print(data.shape)"
   ]
  },
  {
   "cell_type": "code",
   "execution_count": 9,
   "metadata": {},
   "outputs": [],
   "source": [
    "# 保存数据\n",
    "np.save('numpy_data/total.npy', data)"
   ]
  }
 ],
 "metadata": {
  "kernelspec": {
   "display_name": "ML_project",
   "language": "python",
   "name": "python3"
  },
  "language_info": {
   "codemirror_mode": {
    "name": "ipython",
    "version": 3
   },
   "file_extension": ".py",
   "mimetype": "text/x-python",
   "name": "python",
   "nbconvert_exporter": "python",
   "pygments_lexer": "ipython3",
   "version": "3.10.13"
  }
 },
 "nbformat": 4,
 "nbformat_minor": 2
}
