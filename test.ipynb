{
 "cells": [
  {
   "cell_type": "code",
   "execution_count": 1,
   "metadata": {},
   "outputs": [],
   "source": [
    "import dgl\n",
    "import torch\n",
    "import torch.nn as nn\n",
    "import torch.optim as optim\n",
    "import numpy as np\n",
    "import dgl.nn as dglnn"
   ]
  },
  {
   "cell_type": "code",
   "execution_count": 2,
   "metadata": {},
   "outputs": [
    {
     "name": "stderr",
     "output_type": "stream",
     "text": [
      "c:\\Users\\11622\\.conda\\envs\\ML_project\\lib\\site-packages\\dgl\\heterograph.py:92: DGLWarning: Recommend creating graphs by `dgl.graph(data)` instead of `dgl.DGLGraph(data)`.\n",
      "  dgl_warning(\n"
     ]
    }
   ],
   "source": [
    "# 创建示例图数据，每个图代表一个日期\n",
    "num_nodes = 5\n",
    "num_dates = 10\n",
    "num_features_per_node = 3  # 固定每个节点的特征数量\n",
    "\n",
    "graph_list = []\n",
    "\n",
    "for date in range(num_dates):\n",
    "    g = dgl.DGLGraph()\n",
    "    g.add_nodes(num_nodes)\n",
    "    # 添加边，表示节点之间的关系\n",
    "    # 这里使用随机生成的边，实际数据应根据您的数据来构建\n",
    "    src = np.random.randint(0, num_nodes, size=num_nodes)\n",
    "    dst = np.random.randint(0, num_nodes, size=num_nodes)\n",
    "    g.add_edges(src, dst)\n",
    "\n",
    "    # 生成随机节点特征\n",
    "    node_features = torch.randn(num_nodes, num_features_per_node)\n",
    "    g.ndata['features'] = node_features\n",
    "\n",
    "    g = dgl.add_self_loop(g)  # 添加自环\n",
    "    \n",
    "    graph_list.append(g)"
   ]
  },
  {
   "cell_type": "code",
   "execution_count": 4,
   "metadata": {},
   "outputs": [
    {
     "name": "stdout",
     "output_type": "stream",
     "text": [
      "Graph(num_nodes=5, num_edges=10,\n",
      "      ndata_schemes={'features': Scheme(shape=(3,), dtype=torch.float32)}\n",
      "      edata_schemes={})\n",
      "Graph(num_nodes=5, num_edges=10,\n",
      "      ndata_schemes={'features': Scheme(shape=(3,), dtype=torch.float32)}\n",
      "      edata_schemes={})\n",
      "Graph(num_nodes=5, num_edges=10,\n",
      "      ndata_schemes={'features': Scheme(shape=(3,), dtype=torch.float32)}\n",
      "      edata_schemes={})\n",
      "Graph(num_nodes=5, num_edges=10,\n",
      "      ndata_schemes={'features': Scheme(shape=(3,), dtype=torch.float32)}\n",
      "      edata_schemes={})\n",
      "Graph(num_nodes=5, num_edges=10,\n",
      "      ndata_schemes={'features': Scheme(shape=(3,), dtype=torch.float32)}\n",
      "      edata_schemes={})\n",
      "Graph(num_nodes=5, num_edges=10,\n",
      "      ndata_schemes={'features': Scheme(shape=(3,), dtype=torch.float32)}\n",
      "      edata_schemes={})\n",
      "Graph(num_nodes=5, num_edges=10,\n",
      "      ndata_schemes={'features': Scheme(shape=(3,), dtype=torch.float32)}\n",
      "      edata_schemes={})\n",
      "Graph(num_nodes=5, num_edges=10,\n",
      "      ndata_schemes={'features': Scheme(shape=(3,), dtype=torch.float32)}\n",
      "      edata_schemes={})\n",
      "Graph(num_nodes=5, num_edges=10,\n",
      "      ndata_schemes={'features': Scheme(shape=(3,), dtype=torch.float32)}\n",
      "      edata_schemes={})\n",
      "Graph(num_nodes=5, num_edges=10,\n",
      "      ndata_schemes={'features': Scheme(shape=(3,), dtype=torch.float32)}\n",
      "      edata_schemes={})\n",
      "Graph(num_nodes=50, num_edges=100,\n",
      "      ndata_schemes={'features': Scheme(shape=(3,), dtype=torch.float32)}\n",
      "      edata_schemes={})\n",
      "torch.Size([10, 5, 3])\n"
     ]
    }
   ],
   "source": [
    "for g in graph_list:\n",
    "    print(g)\n",
    "# 将多个日期的图数据合并为一个图\n",
    "combined_graph = dgl.batch(graph_list)\n",
    "\n",
    "# 将多个日期的节点特征合并为一个张量\n",
    "combined_features = torch.stack([g.ndata['features'] for g in graph_list], dim=0)\n",
    "\n",
    "print(combined_graph)\n",
    "print(combined_features.shape)"
   ]
  },
  {
   "cell_type": "code",
   "execution_count": 5,
   "metadata": {},
   "outputs": [],
   "source": [
    "# 创建一个简单的GAT模型\n",
    "class GATModel(nn.Module):\n",
    "    def __init__(self, in_dim, hidden_dim, out_dim):\n",
    "        super(GATModel, self).__init__()\n",
    "        self.gat_layer = dglnn.GATConv(in_dim, out_dim, num_heads=1)  # 使用一个注意头\n",
    "        self.fc = nn.Linear(hidden_dim, out_dim)\n",
    "\n",
    "    def forward(self, g, features):\n",
    "        x = features\n",
    "        x = self.gat_layer(g, x)\n",
    "        x = torch.relu(x)\n",
    "        x = self.fc(x)\n",
    "        return x\n",
    "\n",
    "# 创建一个简单的LSTM模型\n",
    "class LSTMModel(nn.Module):\n",
    "    def __init__(self, input_size, hidden_size, output_size):\n",
    "        super(LSTMModel, self).__init__()\n",
    "        self.lstm = nn.LSTM(input_size, hidden_size, batch_first=True)\n",
    "        self.fc = nn.Linear(hidden_size, output_size)\n",
    "\n",
    "    def forward(self, x):\n",
    "        _, (h_n, _) = self.lstm(x)\n",
    "        output = self.fc(h_n[-1, :, :])  # 取LSTM最后一个时间步的输出作为预测结果\n",
    "        return output\n",
    "\n",
    "# 创建结合GAT和LSTM的模型\n",
    "class GATLSTMModel(nn.Module):\n",
    "    def __init__(self, gat_input_size, gat_hidden_size, gat_output_size, lstm_input_size, lstm_hidden_size, lstm_output_size):\n",
    "        super(GATLSTMModel, self).__init__()\n",
    "        self.gat_model = GATModel(gat_input_size, gat_hidden_size, gat_output_size)\n",
    "        self.lstm_model = LSTMModel(lstm_input_size, lstm_hidden_size, lstm_output_size)\n",
    "\n",
    "    def forward(self, g, features):\n",
    "        # 使用GAT模型进行图节点特征的提取\n",
    "        gat_output = self.gat_model(g, features)\n",
    "        # 将GAT的输出作为LSTM的输入\n",
    "        lstm_input = gat_output.unsqueeze(0)  # 添加时间步的维度\n",
    "        # 使用LSTM模型进行时序预测\n",
    "        lstm_output = self.lstm_model(lstm_input)\n",
    "        return lstm_output"
   ]
  },
  {
   "cell_type": "code",
   "execution_count": 6,
   "metadata": {},
   "outputs": [],
   "source": [
    "# 初始化模型\n",
    "gat_input_size = num_features_per_node  # 节点特征的维度\n",
    "gat_hidden_size = 16\n",
    "gat_output_size = 1\n",
    "lstm_input_size = gat_output_size  # LSTM的输入维度与GAT的输出维度相同\n",
    "lstm_hidden_size = 16\n",
    "lstm_output_size = 1\n",
    "\n",
    "model = GATLSTMModel(gat_input_size, gat_hidden_size, gat_output_size, lstm_input_size, lstm_hidden_size, lstm_output_size)\n",
    "\n",
    "# 定义损失函数和优化器\n",
    "criterion = nn.MSELoss()\n",
    "optimizer = optim.Adam(model.parameters(), lr=0.01)"
   ]
  },
  {
   "cell_type": "code",
   "execution_count": 10,
   "metadata": {},
   "outputs": [
    {
     "name": "stdout",
     "output_type": "stream",
     "text": [
      "torch.Size([10, 5, 3])\n",
      "torch.Size([10, 1])\n"
     ]
    }
   ],
   "source": [
    "# 将数据转换为PyTorch张量\n",
    "features_tensor = combined_features.unsqueeze(-1)  # 添加维度，使其成为三维张量\n",
    "labels = torch.randn(num_dates, lstm_output_size)  # 随机生成标签，实际应根据数据替换\n",
    "\n",
    "print(features_tensor.shape)\n",
    "print(labels.shape)"
   ]
  },
  {
   "cell_type": "code",
   "execution_count": 11,
   "metadata": {},
   "outputs": [
    {
     "ename": "DGLError",
     "evalue": "Expect number of features to match number of nodes (len(u)). Got 10 and 50 instead.",
     "output_type": "error",
     "traceback": [
      "\u001b[1;31m---------------------------------------------------------------------------\u001b[0m",
      "\u001b[1;31mDGLError\u001b[0m                                  Traceback (most recent call last)",
      "\u001b[1;32mc:\\Users\\11622\\Desktop\\CCF_BDCI\\基于运营商大数据的栅格时序图预测\\test.ipynb 单元格 7\u001b[0m line \u001b[0;36m6\n\u001b[0;32m      <a href='vscode-notebook-cell:/c%3A/Users/11622/Desktop/CCF_BDCI/%E5%9F%BA%E4%BA%8E%E8%BF%90%E8%90%A5%E5%95%86%E5%A4%A7%E6%95%B0%E6%8D%AE%E7%9A%84%E6%A0%85%E6%A0%BC%E6%97%B6%E5%BA%8F%E5%9B%BE%E9%A2%84%E6%B5%8B/test.ipynb#W6sZmlsZQ%3D%3D?line=3'>4</a>\u001b[0m \u001b[39mfor\u001b[39;00m epoch \u001b[39min\u001b[39;00m \u001b[39mrange\u001b[39m(num_epochs):\n\u001b[0;32m      <a href='vscode-notebook-cell:/c%3A/Users/11622/Desktop/CCF_BDCI/%E5%9F%BA%E4%BA%8E%E8%BF%90%E8%90%A5%E5%95%86%E5%A4%A7%E6%95%B0%E6%8D%AE%E7%9A%84%E6%A0%85%E6%A0%BC%E6%97%B6%E5%BA%8F%E5%9B%BE%E9%A2%84%E6%B5%8B/test.ipynb#W6sZmlsZQ%3D%3D?line=4'>5</a>\u001b[0m     optimizer\u001b[39m.\u001b[39mzero_grad()\n\u001b[1;32m----> <a href='vscode-notebook-cell:/c%3A/Users/11622/Desktop/CCF_BDCI/%E5%9F%BA%E4%BA%8E%E8%BF%90%E8%90%A5%E5%95%86%E5%A4%A7%E6%95%B0%E6%8D%AE%E7%9A%84%E6%A0%85%E6%A0%BC%E6%97%B6%E5%BA%8F%E5%9B%BE%E9%A2%84%E6%B5%8B/test.ipynb#W6sZmlsZQ%3D%3D?line=5'>6</a>\u001b[0m     output \u001b[39m=\u001b[39m model(combined_graph, combined_features)  \u001b[39m# 使用多个日期的数据\u001b[39;00m\n\u001b[0;32m      <a href='vscode-notebook-cell:/c%3A/Users/11622/Desktop/CCF_BDCI/%E5%9F%BA%E4%BA%8E%E8%BF%90%E8%90%A5%E5%95%86%E5%A4%A7%E6%95%B0%E6%8D%AE%E7%9A%84%E6%A0%85%E6%A0%BC%E6%97%B6%E5%BA%8F%E5%9B%BE%E9%A2%84%E6%B5%8B/test.ipynb#W6sZmlsZQ%3D%3D?line=6'>7</a>\u001b[0m     loss \u001b[39m=\u001b[39m criterion(output, labels)\n\u001b[0;32m      <a href='vscode-notebook-cell:/c%3A/Users/11622/Desktop/CCF_BDCI/%E5%9F%BA%E4%BA%8E%E8%BF%90%E8%90%A5%E5%95%86%E5%A4%A7%E6%95%B0%E6%8D%AE%E7%9A%84%E6%A0%85%E6%A0%BC%E6%97%B6%E5%BA%8F%E5%9B%BE%E9%A2%84%E6%B5%8B/test.ipynb#W6sZmlsZQ%3D%3D?line=7'>8</a>\u001b[0m     loss\u001b[39m.\u001b[39mbackward()\n",
      "File \u001b[1;32mc:\\Users\\11622\\.conda\\envs\\ML_project\\lib\\site-packages\\torch\\nn\\modules\\module.py:1518\u001b[0m, in \u001b[0;36mModule._wrapped_call_impl\u001b[1;34m(self, *args, **kwargs)\u001b[0m\n\u001b[0;32m   1516\u001b[0m     \u001b[39mreturn\u001b[39;00m \u001b[39mself\u001b[39m\u001b[39m.\u001b[39m_compiled_call_impl(\u001b[39m*\u001b[39margs, \u001b[39m*\u001b[39m\u001b[39m*\u001b[39mkwargs)  \u001b[39m# type: ignore[misc]\u001b[39;00m\n\u001b[0;32m   1517\u001b[0m \u001b[39melse\u001b[39;00m:\n\u001b[1;32m-> 1518\u001b[0m     \u001b[39mreturn\u001b[39;00m \u001b[39mself\u001b[39m\u001b[39m.\u001b[39m_call_impl(\u001b[39m*\u001b[39margs, \u001b[39m*\u001b[39m\u001b[39m*\u001b[39mkwargs)\n",
      "File \u001b[1;32mc:\\Users\\11622\\.conda\\envs\\ML_project\\lib\\site-packages\\torch\\nn\\modules\\module.py:1527\u001b[0m, in \u001b[0;36mModule._call_impl\u001b[1;34m(self, *args, **kwargs)\u001b[0m\n\u001b[0;32m   1522\u001b[0m \u001b[39m# If we don't have any hooks, we want to skip the rest of the logic in\u001b[39;00m\n\u001b[0;32m   1523\u001b[0m \u001b[39m# this function, and just call forward.\u001b[39;00m\n\u001b[0;32m   1524\u001b[0m \u001b[39mif\u001b[39;00m \u001b[39mnot\u001b[39;00m (\u001b[39mself\u001b[39m\u001b[39m.\u001b[39m_backward_hooks \u001b[39mor\u001b[39;00m \u001b[39mself\u001b[39m\u001b[39m.\u001b[39m_backward_pre_hooks \u001b[39mor\u001b[39;00m \u001b[39mself\u001b[39m\u001b[39m.\u001b[39m_forward_hooks \u001b[39mor\u001b[39;00m \u001b[39mself\u001b[39m\u001b[39m.\u001b[39m_forward_pre_hooks\n\u001b[0;32m   1525\u001b[0m         \u001b[39mor\u001b[39;00m _global_backward_pre_hooks \u001b[39mor\u001b[39;00m _global_backward_hooks\n\u001b[0;32m   1526\u001b[0m         \u001b[39mor\u001b[39;00m _global_forward_hooks \u001b[39mor\u001b[39;00m _global_forward_pre_hooks):\n\u001b[1;32m-> 1527\u001b[0m     \u001b[39mreturn\u001b[39;00m forward_call(\u001b[39m*\u001b[39margs, \u001b[39m*\u001b[39m\u001b[39m*\u001b[39mkwargs)\n\u001b[0;32m   1529\u001b[0m \u001b[39mtry\u001b[39;00m:\n\u001b[0;32m   1530\u001b[0m     result \u001b[39m=\u001b[39m \u001b[39mNone\u001b[39;00m\n",
      "\u001b[1;32mc:\\Users\\11622\\Desktop\\CCF_BDCI\\基于运营商大数据的栅格时序图预测\\test.ipynb 单元格 7\u001b[0m line \u001b[0;36m3\n\u001b[0;32m     <a href='vscode-notebook-cell:/c%3A/Users/11622/Desktop/CCF_BDCI/%E5%9F%BA%E4%BA%8E%E8%BF%90%E8%90%A5%E5%95%86%E5%A4%A7%E6%95%B0%E6%8D%AE%E7%9A%84%E6%A0%85%E6%A0%BC%E6%97%B6%E5%BA%8F%E5%9B%BE%E9%A2%84%E6%B5%8B/test.ipynb#W6sZmlsZQ%3D%3D?line=33'>34</a>\u001b[0m \u001b[39mdef\u001b[39;00m \u001b[39mforward\u001b[39m(\u001b[39mself\u001b[39m, g, features):\n\u001b[0;32m     <a href='vscode-notebook-cell:/c%3A/Users/11622/Desktop/CCF_BDCI/%E5%9F%BA%E4%BA%8E%E8%BF%90%E8%90%A5%E5%95%86%E5%A4%A7%E6%95%B0%E6%8D%AE%E7%9A%84%E6%A0%85%E6%A0%BC%E6%97%B6%E5%BA%8F%E5%9B%BE%E9%A2%84%E6%B5%8B/test.ipynb#W6sZmlsZQ%3D%3D?line=34'>35</a>\u001b[0m     \u001b[39m# 使用GAT模型进行图节点特征的提取\u001b[39;00m\n\u001b[1;32m---> <a href='vscode-notebook-cell:/c%3A/Users/11622/Desktop/CCF_BDCI/%E5%9F%BA%E4%BA%8E%E8%BF%90%E8%90%A5%E5%95%86%E5%A4%A7%E6%95%B0%E6%8D%AE%E7%9A%84%E6%A0%85%E6%A0%BC%E6%97%B6%E5%BA%8F%E5%9B%BE%E9%A2%84%E6%B5%8B/test.ipynb#W6sZmlsZQ%3D%3D?line=35'>36</a>\u001b[0m     gat_output \u001b[39m=\u001b[39m \u001b[39mself\u001b[39;49m\u001b[39m.\u001b[39;49mgat_model(g, features)\n\u001b[0;32m     <a href='vscode-notebook-cell:/c%3A/Users/11622/Desktop/CCF_BDCI/%E5%9F%BA%E4%BA%8E%E8%BF%90%E8%90%A5%E5%95%86%E5%A4%A7%E6%95%B0%E6%8D%AE%E7%9A%84%E6%A0%85%E6%A0%BC%E6%97%B6%E5%BA%8F%E5%9B%BE%E9%A2%84%E6%B5%8B/test.ipynb#W6sZmlsZQ%3D%3D?line=36'>37</a>\u001b[0m     \u001b[39m# 将GAT的输出作为LSTM的输入\u001b[39;00m\n\u001b[0;32m     <a href='vscode-notebook-cell:/c%3A/Users/11622/Desktop/CCF_BDCI/%E5%9F%BA%E4%BA%8E%E8%BF%90%E8%90%A5%E5%95%86%E5%A4%A7%E6%95%B0%E6%8D%AE%E7%9A%84%E6%A0%85%E6%A0%BC%E6%97%B6%E5%BA%8F%E5%9B%BE%E9%A2%84%E6%B5%8B/test.ipynb#W6sZmlsZQ%3D%3D?line=37'>38</a>\u001b[0m     lstm_input \u001b[39m=\u001b[39m gat_output\u001b[39m.\u001b[39munsqueeze(\u001b[39m0\u001b[39m)  \u001b[39m# 添加时间步的维度\u001b[39;00m\n",
      "File \u001b[1;32mc:\\Users\\11622\\.conda\\envs\\ML_project\\lib\\site-packages\\torch\\nn\\modules\\module.py:1518\u001b[0m, in \u001b[0;36mModule._wrapped_call_impl\u001b[1;34m(self, *args, **kwargs)\u001b[0m\n\u001b[0;32m   1516\u001b[0m     \u001b[39mreturn\u001b[39;00m \u001b[39mself\u001b[39m\u001b[39m.\u001b[39m_compiled_call_impl(\u001b[39m*\u001b[39margs, \u001b[39m*\u001b[39m\u001b[39m*\u001b[39mkwargs)  \u001b[39m# type: ignore[misc]\u001b[39;00m\n\u001b[0;32m   1517\u001b[0m \u001b[39melse\u001b[39;00m:\n\u001b[1;32m-> 1518\u001b[0m     \u001b[39mreturn\u001b[39;00m \u001b[39mself\u001b[39m\u001b[39m.\u001b[39m_call_impl(\u001b[39m*\u001b[39margs, \u001b[39m*\u001b[39m\u001b[39m*\u001b[39mkwargs)\n",
      "File \u001b[1;32mc:\\Users\\11622\\.conda\\envs\\ML_project\\lib\\site-packages\\torch\\nn\\modules\\module.py:1527\u001b[0m, in \u001b[0;36mModule._call_impl\u001b[1;34m(self, *args, **kwargs)\u001b[0m\n\u001b[0;32m   1522\u001b[0m \u001b[39m# If we don't have any hooks, we want to skip the rest of the logic in\u001b[39;00m\n\u001b[0;32m   1523\u001b[0m \u001b[39m# this function, and just call forward.\u001b[39;00m\n\u001b[0;32m   1524\u001b[0m \u001b[39mif\u001b[39;00m \u001b[39mnot\u001b[39;00m (\u001b[39mself\u001b[39m\u001b[39m.\u001b[39m_backward_hooks \u001b[39mor\u001b[39;00m \u001b[39mself\u001b[39m\u001b[39m.\u001b[39m_backward_pre_hooks \u001b[39mor\u001b[39;00m \u001b[39mself\u001b[39m\u001b[39m.\u001b[39m_forward_hooks \u001b[39mor\u001b[39;00m \u001b[39mself\u001b[39m\u001b[39m.\u001b[39m_forward_pre_hooks\n\u001b[0;32m   1525\u001b[0m         \u001b[39mor\u001b[39;00m _global_backward_pre_hooks \u001b[39mor\u001b[39;00m _global_backward_hooks\n\u001b[0;32m   1526\u001b[0m         \u001b[39mor\u001b[39;00m _global_forward_hooks \u001b[39mor\u001b[39;00m _global_forward_pre_hooks):\n\u001b[1;32m-> 1527\u001b[0m     \u001b[39mreturn\u001b[39;00m forward_call(\u001b[39m*\u001b[39margs, \u001b[39m*\u001b[39m\u001b[39m*\u001b[39mkwargs)\n\u001b[0;32m   1529\u001b[0m \u001b[39mtry\u001b[39;00m:\n\u001b[0;32m   1530\u001b[0m     result \u001b[39m=\u001b[39m \u001b[39mNone\u001b[39;00m\n",
      "\u001b[1;32mc:\\Users\\11622\\Desktop\\CCF_BDCI\\基于运营商大数据的栅格时序图预测\\test.ipynb 单元格 7\u001b[0m line \u001b[0;36m1\n\u001b[0;32m      <a href='vscode-notebook-cell:/c%3A/Users/11622/Desktop/CCF_BDCI/%E5%9F%BA%E4%BA%8E%E8%BF%90%E8%90%A5%E5%95%86%E5%A4%A7%E6%95%B0%E6%8D%AE%E7%9A%84%E6%A0%85%E6%A0%BC%E6%97%B6%E5%BA%8F%E5%9B%BE%E9%A2%84%E6%B5%8B/test.ipynb#W6sZmlsZQ%3D%3D?line=7'>8</a>\u001b[0m \u001b[39mdef\u001b[39;00m \u001b[39mforward\u001b[39m(\u001b[39mself\u001b[39m, g, features):\n\u001b[0;32m      <a href='vscode-notebook-cell:/c%3A/Users/11622/Desktop/CCF_BDCI/%E5%9F%BA%E4%BA%8E%E8%BF%90%E8%90%A5%E5%95%86%E5%A4%A7%E6%95%B0%E6%8D%AE%E7%9A%84%E6%A0%85%E6%A0%BC%E6%97%B6%E5%BA%8F%E5%9B%BE%E9%A2%84%E6%B5%8B/test.ipynb#W6sZmlsZQ%3D%3D?line=8'>9</a>\u001b[0m     x \u001b[39m=\u001b[39m features\n\u001b[1;32m---> <a href='vscode-notebook-cell:/c%3A/Users/11622/Desktop/CCF_BDCI/%E5%9F%BA%E4%BA%8E%E8%BF%90%E8%90%A5%E5%95%86%E5%A4%A7%E6%95%B0%E6%8D%AE%E7%9A%84%E6%A0%85%E6%A0%BC%E6%97%B6%E5%BA%8F%E5%9B%BE%E9%A2%84%E6%B5%8B/test.ipynb#W6sZmlsZQ%3D%3D?line=9'>10</a>\u001b[0m     x \u001b[39m=\u001b[39m \u001b[39mself\u001b[39;49m\u001b[39m.\u001b[39;49mgat_layer(g, x)\n\u001b[0;32m     <a href='vscode-notebook-cell:/c%3A/Users/11622/Desktop/CCF_BDCI/%E5%9F%BA%E4%BA%8E%E8%BF%90%E8%90%A5%E5%95%86%E5%A4%A7%E6%95%B0%E6%8D%AE%E7%9A%84%E6%A0%85%E6%A0%BC%E6%97%B6%E5%BA%8F%E5%9B%BE%E9%A2%84%E6%B5%8B/test.ipynb#W6sZmlsZQ%3D%3D?line=10'>11</a>\u001b[0m     x \u001b[39m=\u001b[39m torch\u001b[39m.\u001b[39mrelu(x)\n\u001b[0;32m     <a href='vscode-notebook-cell:/c%3A/Users/11622/Desktop/CCF_BDCI/%E5%9F%BA%E4%BA%8E%E8%BF%90%E8%90%A5%E5%95%86%E5%A4%A7%E6%95%B0%E6%8D%AE%E7%9A%84%E6%A0%85%E6%A0%BC%E6%97%B6%E5%BA%8F%E5%9B%BE%E9%A2%84%E6%B5%8B/test.ipynb#W6sZmlsZQ%3D%3D?line=11'>12</a>\u001b[0m     x \u001b[39m=\u001b[39m \u001b[39mself\u001b[39m\u001b[39m.\u001b[39mfc(x)\n",
      "File \u001b[1;32mc:\\Users\\11622\\.conda\\envs\\ML_project\\lib\\site-packages\\torch\\nn\\modules\\module.py:1518\u001b[0m, in \u001b[0;36mModule._wrapped_call_impl\u001b[1;34m(self, *args, **kwargs)\u001b[0m\n\u001b[0;32m   1516\u001b[0m     \u001b[39mreturn\u001b[39;00m \u001b[39mself\u001b[39m\u001b[39m.\u001b[39m_compiled_call_impl(\u001b[39m*\u001b[39margs, \u001b[39m*\u001b[39m\u001b[39m*\u001b[39mkwargs)  \u001b[39m# type: ignore[misc]\u001b[39;00m\n\u001b[0;32m   1517\u001b[0m \u001b[39melse\u001b[39;00m:\n\u001b[1;32m-> 1518\u001b[0m     \u001b[39mreturn\u001b[39;00m \u001b[39mself\u001b[39m\u001b[39m.\u001b[39m_call_impl(\u001b[39m*\u001b[39margs, \u001b[39m*\u001b[39m\u001b[39m*\u001b[39mkwargs)\n",
      "File \u001b[1;32mc:\\Users\\11622\\.conda\\envs\\ML_project\\lib\\site-packages\\torch\\nn\\modules\\module.py:1527\u001b[0m, in \u001b[0;36mModule._call_impl\u001b[1;34m(self, *args, **kwargs)\u001b[0m\n\u001b[0;32m   1522\u001b[0m \u001b[39m# If we don't have any hooks, we want to skip the rest of the logic in\u001b[39;00m\n\u001b[0;32m   1523\u001b[0m \u001b[39m# this function, and just call forward.\u001b[39;00m\n\u001b[0;32m   1524\u001b[0m \u001b[39mif\u001b[39;00m \u001b[39mnot\u001b[39;00m (\u001b[39mself\u001b[39m\u001b[39m.\u001b[39m_backward_hooks \u001b[39mor\u001b[39;00m \u001b[39mself\u001b[39m\u001b[39m.\u001b[39m_backward_pre_hooks \u001b[39mor\u001b[39;00m \u001b[39mself\u001b[39m\u001b[39m.\u001b[39m_forward_hooks \u001b[39mor\u001b[39;00m \u001b[39mself\u001b[39m\u001b[39m.\u001b[39m_forward_pre_hooks\n\u001b[0;32m   1525\u001b[0m         \u001b[39mor\u001b[39;00m _global_backward_pre_hooks \u001b[39mor\u001b[39;00m _global_backward_hooks\n\u001b[0;32m   1526\u001b[0m         \u001b[39mor\u001b[39;00m _global_forward_hooks \u001b[39mor\u001b[39;00m _global_forward_pre_hooks):\n\u001b[1;32m-> 1527\u001b[0m     \u001b[39mreturn\u001b[39;00m forward_call(\u001b[39m*\u001b[39margs, \u001b[39m*\u001b[39m\u001b[39m*\u001b[39mkwargs)\n\u001b[0;32m   1529\u001b[0m \u001b[39mtry\u001b[39;00m:\n\u001b[0;32m   1530\u001b[0m     result \u001b[39m=\u001b[39m \u001b[39mNone\u001b[39;00m\n",
      "File \u001b[1;32mc:\\Users\\11622\\.conda\\envs\\ML_project\\lib\\site-packages\\dgl\\nn\\pytorch\\conv\\gatconv.py:334\u001b[0m, in \u001b[0;36mGATConv.forward\u001b[1;34m(self, graph, feat, edge_weight, get_attention)\u001b[0m\n\u001b[0;32m    332\u001b[0m el \u001b[39m=\u001b[39m (feat_src \u001b[39m*\u001b[39m \u001b[39mself\u001b[39m\u001b[39m.\u001b[39mattn_l)\u001b[39m.\u001b[39msum(dim\u001b[39m=\u001b[39m\u001b[39m-\u001b[39m\u001b[39m1\u001b[39m)\u001b[39m.\u001b[39munsqueeze(\u001b[39m-\u001b[39m\u001b[39m1\u001b[39m)\n\u001b[0;32m    333\u001b[0m er \u001b[39m=\u001b[39m (feat_dst \u001b[39m*\u001b[39m \u001b[39mself\u001b[39m\u001b[39m.\u001b[39mattn_r)\u001b[39m.\u001b[39msum(dim\u001b[39m=\u001b[39m\u001b[39m-\u001b[39m\u001b[39m1\u001b[39m)\u001b[39m.\u001b[39munsqueeze(\u001b[39m-\u001b[39m\u001b[39m1\u001b[39m)\n\u001b[1;32m--> 334\u001b[0m graph\u001b[39m.\u001b[39;49msrcdata\u001b[39m.\u001b[39;49mupdate({\u001b[39m\"\u001b[39;49m\u001b[39mft\u001b[39;49m\u001b[39m\"\u001b[39;49m: feat_src, \u001b[39m\"\u001b[39;49m\u001b[39mel\u001b[39;49m\u001b[39m\"\u001b[39;49m: el})\n\u001b[0;32m    335\u001b[0m graph\u001b[39m.\u001b[39mdstdata\u001b[39m.\u001b[39mupdate({\u001b[39m\"\u001b[39m\u001b[39mer\u001b[39m\u001b[39m\"\u001b[39m: er})\n\u001b[0;32m    336\u001b[0m \u001b[39m# compute edge attention, el and er are a_l Wh_i and a_r Wh_j respectively.\u001b[39;00m\n",
      "File \u001b[1;32mc:\\Users\\11622\\.conda\\envs\\ML_project\\lib\\_collections_abc.py:999\u001b[0m, in \u001b[0;36mMutableMapping.update\u001b[1;34m(self, other, **kwds)\u001b[0m\n\u001b[0;32m    997\u001b[0m \u001b[39mif\u001b[39;00m \u001b[39misinstance\u001b[39m(other, Mapping):\n\u001b[0;32m    998\u001b[0m     \u001b[39mfor\u001b[39;00m key \u001b[39min\u001b[39;00m other:\n\u001b[1;32m--> 999\u001b[0m         \u001b[39mself\u001b[39;49m[key] \u001b[39m=\u001b[39m other[key]\n\u001b[0;32m   1000\u001b[0m \u001b[39melif\u001b[39;00m \u001b[39mhasattr\u001b[39m(other, \u001b[39m\"\u001b[39m\u001b[39mkeys\u001b[39m\u001b[39m\"\u001b[39m):\n\u001b[0;32m   1001\u001b[0m     \u001b[39mfor\u001b[39;00m key \u001b[39min\u001b[39;00m other\u001b[39m.\u001b[39mkeys():\n",
      "File \u001b[1;32mc:\\Users\\11622\\.conda\\envs\\ML_project\\lib\\site-packages\\dgl\\view.py:99\u001b[0m, in \u001b[0;36mHeteroNodeDataView.__setitem__\u001b[1;34m(self, key, val)\u001b[0m\n\u001b[0;32m     94\u001b[0m \u001b[39melse\u001b[39;00m:\n\u001b[0;32m     95\u001b[0m     \u001b[39massert\u001b[39;00m \u001b[39misinstance\u001b[39m(val, \u001b[39mdict\u001b[39m) \u001b[39mis\u001b[39;00m \u001b[39mFalse\u001b[39;00m, (\n\u001b[0;32m     96\u001b[0m         \u001b[39m\"\u001b[39m\u001b[39mThe HeteroNodeDataView has only one node type. \u001b[39m\u001b[39m\"\u001b[39m\n\u001b[0;32m     97\u001b[0m         \u001b[39m\"\u001b[39m\u001b[39mplease pass a tensor directly\u001b[39m\u001b[39m\"\u001b[39m\n\u001b[0;32m     98\u001b[0m     )\n\u001b[1;32m---> 99\u001b[0m     \u001b[39mself\u001b[39;49m\u001b[39m.\u001b[39;49m_graph\u001b[39m.\u001b[39;49m_set_n_repr(\u001b[39mself\u001b[39;49m\u001b[39m.\u001b[39;49m_ntid, \u001b[39mself\u001b[39;49m\u001b[39m.\u001b[39;49m_nodes, {key: val})\n",
      "File \u001b[1;32mc:\\Users\\11622\\.conda\\envs\\ML_project\\lib\\site-packages\\dgl\\heterograph.py:4342\u001b[0m, in \u001b[0;36mDGLGraph._set_n_repr\u001b[1;34m(self, ntid, u, data)\u001b[0m\n\u001b[0;32m   4340\u001b[0m nfeats \u001b[39m=\u001b[39m F\u001b[39m.\u001b[39mshape(val)[\u001b[39m0\u001b[39m]\n\u001b[0;32m   4341\u001b[0m \u001b[39mif\u001b[39;00m nfeats \u001b[39m!=\u001b[39m num_nodes:\n\u001b[1;32m-> 4342\u001b[0m     \u001b[39mraise\u001b[39;00m DGLError(\n\u001b[0;32m   4343\u001b[0m         \u001b[39m\"\u001b[39m\u001b[39mExpect number of features to match number of nodes (len(u)).\u001b[39m\u001b[39m\"\u001b[39m\n\u001b[0;32m   4344\u001b[0m         \u001b[39m\"\u001b[39m\u001b[39m Got \u001b[39m\u001b[39m%d\u001b[39;00m\u001b[39m and \u001b[39m\u001b[39m%d\u001b[39;00m\u001b[39m instead.\u001b[39m\u001b[39m\"\u001b[39m \u001b[39m%\u001b[39m (nfeats, num_nodes)\n\u001b[0;32m   4345\u001b[0m     )\n\u001b[0;32m   4346\u001b[0m \u001b[39mif\u001b[39;00m F\u001b[39m.\u001b[39mcontext(val) \u001b[39m!=\u001b[39m \u001b[39mself\u001b[39m\u001b[39m.\u001b[39mdevice:\n\u001b[0;32m   4347\u001b[0m     \u001b[39mraise\u001b[39;00m DGLError(\n\u001b[0;32m   4348\u001b[0m         \u001b[39m'\u001b[39m\u001b[39mCannot assign node feature \u001b[39m\u001b[39m\"\u001b[39m\u001b[39m{}\u001b[39;00m\u001b[39m\"\u001b[39m\u001b[39m on device \u001b[39m\u001b[39m{}\u001b[39;00m\u001b[39m to a graph on\u001b[39m\u001b[39m'\u001b[39m\n\u001b[0;32m   4349\u001b[0m         \u001b[39m\"\u001b[39m\u001b[39m device \u001b[39m\u001b[39m{}\u001b[39;00m\u001b[39m. Call DGLGraph.to() to copy the graph to the\u001b[39m\u001b[39m\"\u001b[39m\n\u001b[0;32m   4350\u001b[0m         \u001b[39m\"\u001b[39m\u001b[39m same device.\u001b[39m\u001b[39m\"\u001b[39m\u001b[39m.\u001b[39mformat(key, F\u001b[39m.\u001b[39mcontext(val), \u001b[39mself\u001b[39m\u001b[39m.\u001b[39mdevice)\n\u001b[0;32m   4351\u001b[0m     )\n",
      "\u001b[1;31mDGLError\u001b[0m: Expect number of features to match number of nodes (len(u)). Got 10 and 50 instead."
     ]
    }
   ],
   "source": [
    "# 训练模型\n",
    "num_epochs = 100\n",
    "\n",
    "for epoch in range(num_epochs):\n",
    "    optimizer.zero_grad()\n",
    "    output = model(combined_graph, features_tensor)  # 使用多个日期的数据\n",
    "    loss = criterion(output, labels)\n",
    "    loss.backward()\n",
    "    optimizer.step()\n",
    "\n",
    "    print(f\"Epoch [{epoch + 1}/{num_epochs}] Loss: {loss.item()}\")\n",
    "\n",
    "# 使用模型进行时序预测\n",
    "# ...\n"
   ]
  }
 ],
 "metadata": {
  "kernelspec": {
   "display_name": "ML_project",
   "language": "python",
   "name": "python3"
  },
  "language_info": {
   "codemirror_mode": {
    "name": "ipython",
    "version": 3
   },
   "file_extension": ".py",
   "mimetype": "text/x-python",
   "name": "python",
   "nbconvert_exporter": "python",
   "pygments_lexer": "ipython3",
   "version": "3.10.13"
  }
 },
 "nbformat": 4,
 "nbformat_minor": 2
}
